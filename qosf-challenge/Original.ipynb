{
 "cells": [
  {
   "cell_type": "code",
   "execution_count": 8,
   "metadata": {
    "collapsed": true
   },
   "outputs": [],
   "source": [
    "# Import Qiskit library\n",
    "from qiskit import QuantumCircuit, QuantumRegister, ClassicalRegister\n",
    "# Adding the transpiler to reduce the circuit to QASM instructions\n",
    "# supported by the backend\n",
    "from qiskit import transpile\n",
    "# Use Aer's qasm_simulator\n",
    "from qiskit.providers.aer import QasmSimulator\n",
    "from math import pi"
   ]
  },
  {
   "cell_type": "code",
   "execution_count": 9,
   "outputs": [
    {
     "data": {
      "text/plain": "<qiskit.circuit.instructionset.InstructionSet at 0x182268f7d0>"
     },
     "execution_count": 9,
     "metadata": {},
     "output_type": "execute_result"
    }
   ],
   "source": [
    "qr = QuantumRegister(3, 'q13')\n",
    "cr = ClassicalRegister(3, 'c')\n",
    "qc = QuantumCircuit(qr, cr)\n",
    "\n",
    "# Gates\n",
    "qc.h(0)\n",
    "qc.y(1)\n",
    "qc.h(2)\n",
    "qc.cx(0,1)\n",
    "qc.ccx(0,1,2)\n",
    "qc.z(1)\n",
    "qc.rz(pi/5, 2)\n",
    "\n",
    "#Measure\n",
    "qc.measure(range(3),range(3))"
   ],
   "metadata": {
    "collapsed": false,
    "pycharm": {
     "name": "#%%\n"
    }
   }
  },
  {
   "cell_type": "code",
   "execution_count": 10,
   "outputs": [
    {
     "data": {
      "text/plain": "<Figure size 534.395x264.88 with 1 Axes>",
      "image/png": "[encoded data removed]"
     },
     "execution_count": 10,
     "metadata": {},
     "output_type": "execute_result"
    }
   ],
   "source": [
    "qc.draw('mpl', style='iqx')"
   ],
   "metadata": {
    "collapsed": false,
    "pycharm": {
     "name": "#%%\n"
    }
   }
  },
  {
   "cell_type": "code",
   "execution_count": 5,
   "outputs": [],
   "source": [
    "backend = QasmSimulator()\n",
    "# First we have to transpile the quantum circuit\n",
    "# to the low-level QASM instructions used by the\n",
    "# backend\n",
    "qc_compiled = transpile(qc, backend)\n",
    "\n",
    "# Execute the circuit on the qasm simulator.\n",
    "# We've set the number of repeats of the circuit\n",
    "# to be 1024, which is the default.\n",
    "job_sim = backend.run(qc_compiled, shots=1024)\n",
    "\n",
    "# Grab the results from the job.\n",
    "result_sim = job_sim.result()"
   ],
   "metadata": {
    "collapsed": false,
    "pycharm": {
     "name": "#%%\n"
    }
   }
  },
  {
   "cell_type": "code",
   "execution_count": 6,
   "outputs": [
    {
     "name": "stdout",
     "output_type": "stream",
     "text": [
      "{'101': 271, '010': 272, '110': 257, '001': 224}\n"
     ]
    }
   ],
   "source": [
    "print(result_sim.get_counts(qc_compiled))"
   ],
   "metadata": {
    "collapsed": false,
    "pycharm": {
     "name": "#%%\n"
    }
   }
  },
  {
   "cell_type": "code",
   "execution_count": 43,
   "outputs": [
    {
     "data": {
      "text/plain": "<qiskit.circuit.instructionset.InstructionSet at 0x61d7d9f90>"
     },
     "execution_count": 43,
     "metadata": {},
     "output_type": "execute_result"
    }
   ],
   "source": [
    "qr = QuantumRegister(3, 'q13')\n",
    "cr = ClassicalRegister(3, 'c')\n",
    "qc = QuantumCircuit(qr, cr)\n",
    "\n",
    "# Gates\n",
    "qc.h(0)\n",
    "qc.y(1)\n",
    "qc.h(2)\n",
    "qc.cx(0,1)\n",
    "qc.ccx(0,1,2)\n",
    "qc.z(1)\n",
    "qc.z(2)\n",
    "qc.p(-pi*4/5,2)\n",
    "\n",
    "#Measure\n",
    "qc.measure(range(3),range(3))\n"
   ],
   "metadata": {
    "collapsed": false,
    "pycharm": {
     "name": "#%%\n"
    }
   }
  },
  {
   "cell_type": "code",
   "execution_count": 44,
   "outputs": [
    {
     "data": {
      "text/plain": "<Figure size 594.595x264.88 with 1 Axes>",
      "image/png": "[encoded data removed]"
     },
     "execution_count": 44,
     "metadata": {},
     "output_type": "execute_result"
    }
   ],
   "source": [
    "qc.draw('mpl', style='iqx')"
   ],
   "metadata": {
    "collapsed": false,
    "pycharm": {
     "name": "#%%\n"
    }
   }
  },
  {
   "cell_type": "code",
   "execution_count": 45,
   "outputs": [],
   "source": [
    "backend = QasmSimulator()\n",
    "# First we have to transpile the quantum circuit\n",
    "# to the low-level QASM instructions used by the\n",
    "# backend\n",
    "qc_compiled = transpile(qc, backend)\n",
    "\n",
    "# Execute the circuit on the qasm simulator.\n",
    "# We've set the number of repeats of the circuit\n",
    "# to be 1024, which is the default.\n",
    "job_sim = backend.run(qc_compiled, shots=1024)\n",
    "\n",
    "# Grab the results from the job.\n",
    "result_sim = job_sim.result()"
   ],
   "metadata": {
    "collapsed": false,
    "pycharm": {
     "name": "#%%\n"
    }
   }
  },
  {
   "cell_type": "code",
   "execution_count": 46,
   "outputs": [
    {
     "name": "stdout",
     "output_type": "stream",
     "text": [
      "{'001': 259, '101': 248, '110': 268, '010': 249}\n"
     ]
    }
   ],
   "source": [
    "print(result_sim.get_counts(qc_compiled))"
   ],
   "metadata": {
    "collapsed": false,
    "pycharm": {
     "name": "#%%\n"
    }
   }
  }
 ],
 "metadata": {
  "kernelspec": {
   "name": "python37464bitbaseconda47b0c0b47b67404f8753305f1174ea83",
   "language": "python",
   "display_name": "Python 3.7.4 64-bit ('base': conda)"
  },
  "language_info": {
   "codemirror_mode": {
    "name": "ipython",
    "version": 2
   },
   "file_extension": ".py",
   "mimetype": "text/x-python",
   "name": "python",
   "nbconvert_exporter": "python",
   "pygments_lexer": "ipython2",
   "version": "2.7.6"
  }
 },
 "nbformat": 4,
 "nbformat_minor": 0
}